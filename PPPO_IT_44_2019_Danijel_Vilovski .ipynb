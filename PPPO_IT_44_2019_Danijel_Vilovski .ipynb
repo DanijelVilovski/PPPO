{
  "nbformat": 4,
  "nbformat_minor": 0,
  "metadata": {
    "colab": {
      "provenance": [],
      "toc_visible": true
    },
    "kernelspec": {
      "name": "python3",
      "display_name": "Python 3"
    },
    "language_info": {
      "name": "python"
    }
  },
  "cells": [
    {
      "cell_type": "markdown",
      "source": [
        "# Detekcija lica\n",
        "\n"
      ],
      "metadata": {
        "id": "90VSUha8viuR"
      }
    },
    {
      "cell_type": "markdown",
      "source": [
        "## **Sadržaj**\n",
        " 1. Uvod\n",
        " 2. Dataset\n",
        " 3. Detekcija lica - OpenCV Haar cascade\n",
        " 4. Zaključak\n",
        " 5. Reference"
      ],
      "metadata": {
        "id": "l7hfCoZjwGnF"
      }
    },
    {
      "cell_type": "markdown",
      "source": [
        "## **Uvod**\n",
        "\n",
        "#### **Detekcija lica**\n",
        "Detekcija lica je tehnologija koja se koristi u raznim aplikacijama koja identifikuje ljudska lica na digitalnim slikama. Detekcija lica se takođe odnosi na psihološki proces kojim ljudi lociraju lica u vizuelnoj sceni i prate ih.\n",
        "\n",
        "#### **How it works**\n",
        "Detekcija lica koristi tehnologiju mašinskog učenja (eng. Machine Learning - ML) i veštačke neuronske mreže (eng. Artificial Neural Network - ANN) i igra važnu ulogu u praćenju lica, analizi lica i prepoznavanju lica. U analizi lica, detekcija lica koristi izraze lica da identifikuje na koje delove slike ili video snimka treba da se fokusira da bi se odredila starost, pol i emocije. U sistemu za prepoznavanje lica, podaci za detekciju lica su potrebni za generisanje otiska lica i usklađivanje sa drugim sačuvanim otiscima lica (eng. faceprint).\n",
        "\n",
        "#### **Metode detekcije lica**\n",
        "Algoritmi za detekciju lica su klasifikovani na više načina. Mogu se klasifikovati u jednu od četiri kategorije, pri čemu neki algoritmi pripadaju više od jedne kategorije. U nastavku su opisane četiri popularne metode detekcije lica:\n",
        "\n",
        "1. Detekcija zasnovana na znanju (eng. Knowledge-based):\n",
        "Da bi tehnika zasnovana na znanju prepoznala lica, mora se poštovati skup pravila, a to zavisi od ljudskog razumevanja. Na primer, lice mora imati nos, oči i usta koji su svi na određenim udaljenostima i pozicijama jedno od drugog.\n",
        "\n",
        "2. Detekcija zasnovana na karakteristikama (eng. Feature-based):\n",
        "Tehnika zasnovana na karakteristikama se koristi za pronalaženje lica izdvajanjem strukturnih karakteristika iz lica koja se traže. Prvo se obučava kao klasifikator, a zatim se koristi za razlikovanje facijalnih i drugih delova tela.\n",
        "\n",
        "3. Podudaranje šablona (eng. Matching of Templates):\n",
        "Moguće je otkriti ili detektovati lica korišćenjem pristupa podudaranja šablona, koji koristi unapred definisane ili parametrizovane šablone lica za lociranje ili detekciju lica upoređujući ih sa ulaznim fotografijama. Na primer, ljudsko lice se može podeliti na četiri dela: oči, kontura lica, nos i usne. Pored toga, korišćenjem pristupa detekcije ivica, model lica se može konstruisati u potpunosti od ivica.\n",
        "\n",
        "4. Zasnovano na izgledu (eng. Appearance-based):\n",
        "Pristup zasnovan na izgledu nadmašuje sve druge metode evaluacije učinka. Kada se traže relevantni kvaliteti na fotografijama lica, metode zasnovane na izgledu zavise od tehnika statističke analize i mašinskog učenja kako bi se otkrile važne karakteristike fotografija lica. Ovaj pristup se takođe koristi u izdvajanju crta lica u svrhu prepoznavanja lica.\n",
        "\n",
        "#### **Oblasti u kojima se koristi detekcija lica**\n",
        "1. Poboljšana bezbednost\n",
        "\n",
        "Detekcija lica se uglavnom koristi u sigurnosnim sistemima. Razlog tome je što daje brže i sigurnije rezultate jer sistem radi preko računara. Sa ovom funkcijom, bezbednosni sistemi koriste termin „nadzor mase“ (eng. crowd surveillance). Korišćenje nadzora mase pomaže u pronalaženju ljudi koji su kriminalci ili nestali.\n",
        "\n",
        "Druga upotreba detekcije lica su uređaji za otključavanje. Detekcija lica u otključavanju uređaja se koristi u mnogim tehnološkim uređajima. U otključavanju uređaja, detekcija lica se uglavnom koristi za automatsku identifikaciju. Na ovaj način, tehnologija nudi moćan način zaštite ličnih podataka i osigurava da lični podaci budu nedostupni ako je uređaj ukraden. On čuva podatke na sigurnom. Otključavanje uređaja se koristi u privatnim uređajima kao što su mobilni telefoni i računari. Takođe, koristi se za zaključavanje/otključavanje vrata i kontrolu pristupa osetljivim oblastima.\n",
        "\n",
        "2. Sprovođenje zakona\n",
        "\n",
        "Policija redovno koristi prepoznavanje lica. Obezbeđuje sistem za prikupljanje slika od uhapšenih i upoređuje slike u različitim bazama podataka. U ovim bazama podataka postoje otisci lica koji se upoređuju sa prethodno sačuvanim otiscima lica kako bi se utvrdilo da li postoji podudaranje ili ne. Takođe, može se koristiti za pronalaženje nestalih osoba. Uglavnom se slika osobe registruje u bazama podataka kada sistemi za detekciju lica prepoznaju osobu. Ove baze podataka se koriste za identifikaciju ili verifikaciju osobe. Na ovaj način, detekcija lica olakšava „ulazak u trag“ ljudima. Tehnologija detekcije lica pomaže u bržim istragama i privođenju prestupnika pravdi. Takođe, ima potencijal da zaustavi i spreči zločine.\n",
        "\n",
        "3. Zdravstvene usluge\n",
        "\n",
        "Kada se detekcija lica koristi u zdravstvenim uslugama, prepoznavanje lica se može koristiti za dijagnozu bolesti koje uzrokuju vidljive promene u fizičkom izgledu. Takođe, detekcija lica ima potencijal da identifikuje starost, prepoznavanje pola, analizira emocije na osnovu izraza lica. Koristeći ove karakteristike, mogu se otkriti nove tehnologije. Na primer, brend je razvio aplikaciju koja pomaže slepim ljudima da koriste detekciju lica. Prepoznaje lica ljudi kada se smeju i vibracijom upozorava ljude koji su slepi.\n",
        "\n",
        "4. Društvene mreže\n",
        "\n",
        "Prepoznavanje lica se koristi u aplikacijama društvenih mreža, a upotreba društvenih mreža postaje sve popularnija. Jedan od primera jesu filteri gde se primenjuje tehnika detekcije lica nakon koje je moguće primeniti neki filter na željenoj fotografiji ili videu.\n"
      ],
      "metadata": {
        "id": "3SmghbEAweLI"
      }
    },
    {
      "cell_type": "markdown",
      "source": [
        "## **Dataset**\n",
        "\n",
        "U okviru projektnog zadatka iz predmeta Principi prezentacije i prepoznavanja oblika, dobio sam set podataka koji se sastoji od 274 fotografije poznatih glumaca raspoređenih u 5 direktorijuma. Svaki direktorijum nosi ime i prezime odgovarajućeg glumca. U nastavku projekta, treba preuzeti taj set podataka sa dodeljenog linka i raspakovati ga.\n"
      ],
      "metadata": {
        "id": "zE6FgvDKJzmV"
      }
    },
    {
      "cell_type": "code",
      "source": [
        "# Instaliranje biblioteke gdown koja omogućava preuzimanje datoteka sa Google Drive-a koristeći URL.\n",
        "!pip install gdown"
      ],
      "metadata": {
        "colab": {
          "base_uri": "https://localhost:8080/"
        },
        "id": "SM8PzTfQJ6rK",
        "outputId": "35da23c1-640f-4fb1-f728-51e310b5d79f"
      },
      "execution_count": 21,
      "outputs": [
        {
          "output_type": "stream",
          "name": "stdout",
          "text": [
            "Requirement already satisfied: gdown in /usr/local/lib/python3.10/dist-packages (4.6.6)\n",
            "Requirement already satisfied: filelock in /usr/local/lib/python3.10/dist-packages (from gdown) (3.12.2)\n",
            "Requirement already satisfied: requests[socks] in /usr/local/lib/python3.10/dist-packages (from gdown) (2.27.1)\n",
            "Requirement already satisfied: six in /usr/local/lib/python3.10/dist-packages (from gdown) (1.16.0)\n",
            "Requirement already satisfied: tqdm in /usr/local/lib/python3.10/dist-packages (from gdown) (4.65.0)\n",
            "Requirement already satisfied: beautifulsoup4 in /usr/local/lib/python3.10/dist-packages (from gdown) (4.11.2)\n",
            "Requirement already satisfied: soupsieve>1.2 in /usr/local/lib/python3.10/dist-packages (from beautifulsoup4->gdown) (2.4.1)\n",
            "Requirement already satisfied: urllib3<1.27,>=1.21.1 in /usr/local/lib/python3.10/dist-packages (from requests[socks]->gdown) (1.26.16)\n",
            "Requirement already satisfied: certifi>=2017.4.17 in /usr/local/lib/python3.10/dist-packages (from requests[socks]->gdown) (2023.5.7)\n",
            "Requirement already satisfied: charset-normalizer~=2.0.0 in /usr/local/lib/python3.10/dist-packages (from requests[socks]->gdown) (2.0.12)\n",
            "Requirement already satisfied: idna<4,>=2.5 in /usr/local/lib/python3.10/dist-packages (from requests[socks]->gdown) (3.4)\n",
            "Requirement already satisfied: PySocks!=1.5.7,>=1.5.6 in /usr/local/lib/python3.10/dist-packages (from requests[socks]->gdown) (1.7.1)\n"
          ]
        }
      ]
    },
    {
      "cell_type": "code",
      "source": [
        "# Uvoz gdown modula\n",
        "import gdown"
      ],
      "metadata": {
        "id": "1GRLeIAYNBDA"
      },
      "execution_count": 22,
      "outputs": []
    },
    {
      "cell_type": "code",
      "source": [
        "# preuzimanje datoteke sa Google Drive-a\n",
        "!gdown --fuzzy https://drive.google.com/file/d/1poBLVBGNteXhgMVDO2vo9XxpXDsTeUK6/view"
      ],
      "metadata": {
        "colab": {
          "base_uri": "https://localhost:8080/"
        },
        "id": "2tthGJsGNCzH",
        "outputId": "50d7fc06-a54b-470e-afe2-c34fb7ed419a"
      },
      "execution_count": 23,
      "outputs": [
        {
          "output_type": "stream",
          "name": "stdout",
          "text": [
            "Downloading...\n",
            "From: https://drive.google.com/uc?id=1poBLVBGNteXhgMVDO2vo9XxpXDsTeUK6\n",
            "To: /content/AVENGERS_FaceDetection.zip\n",
            "100% 57.2M/57.2M [00:00<00:00, 110MB/s]\n"
          ]
        }
      ]
    },
    {
      "cell_type": "code",
      "source": [
        "# Raspakivanje fajla sa slikama\n",
        "!unzip AVENGERS_FaceDetection.zip"
      ],
      "metadata": {
        "colab": {
          "base_uri": "https://localhost:8080/"
        },
        "id": "Suh69yrdNMox",
        "outputId": "e8834aec-1889-4aa4-e037-4ff8bcb95b01"
      },
      "execution_count": 24,
      "outputs": [
        {
          "output_type": "stream",
          "name": "stdout",
          "text": [
            "Archive:  AVENGERS_FaceDetection.zip\n",
            "replace cropped_images/chris_evans/chris_evans1.png? [y]es, [n]o, [A]ll, [N]one, [r]ename: A\n",
            "  inflating: cropped_images/chris_evans/chris_evans1.png  \n",
            "  inflating: cropped_images/chris_evans/chris_evans10.png  \n",
            "  inflating: cropped_images/chris_evans/chris_evans11.png  \n",
            "  inflating: cropped_images/chris_evans/chris_evans12.png  \n",
            "  inflating: cropped_images/chris_evans/chris_evans13.png  \n",
            "  inflating: cropped_images/chris_evans/chris_evans14.png  \n",
            "  inflating: cropped_images/chris_evans/chris_evans15.png  \n",
            "  inflating: cropped_images/chris_evans/chris_evans16.png  \n",
            "  inflating: cropped_images/chris_evans/chris_evans17.png  \n",
            "  inflating: cropped_images/chris_evans/chris_evans18.png  \n",
            "  inflating: cropped_images/chris_evans/chris_evans19.png  \n",
            "  inflating: cropped_images/chris_evans/chris_evans2.png  \n",
            "  inflating: cropped_images/chris_evans/chris_evans20.png  \n",
            "  inflating: cropped_images/chris_evans/chris_evans21.png  \n",
            "  inflating: cropped_images/chris_evans/chris_evans22.png  \n",
            "  inflating: cropped_images/chris_evans/chris_evans23.png  \n",
            "  inflating: cropped_images/chris_evans/chris_evans24.png  \n",
            "  inflating: cropped_images/chris_evans/chris_evans25.png  \n",
            "  inflating: cropped_images/chris_evans/chris_evans26.png  \n",
            "  inflating: cropped_images/chris_evans/chris_evans27.png  \n",
            "  inflating: cropped_images/chris_evans/chris_evans28.png  \n",
            "  inflating: cropped_images/chris_evans/chris_evans29.png  \n",
            "  inflating: cropped_images/chris_evans/chris_evans3.png  \n",
            "  inflating: cropped_images/chris_evans/chris_evans30.png  \n",
            "  inflating: cropped_images/chris_evans/chris_evans31.png  \n",
            "  inflating: cropped_images/chris_evans/chris_evans32.png  \n",
            "  inflating: cropped_images/chris_evans/chris_evans33.png  \n",
            "  inflating: cropped_images/chris_evans/chris_evans34.png  \n",
            "  inflating: cropped_images/chris_evans/chris_evans35.png  \n",
            "  inflating: cropped_images/chris_evans/chris_evans36.png  \n",
            "  inflating: cropped_images/chris_evans/chris_evans37.png  \n",
            "  inflating: cropped_images/chris_evans/chris_evans38.png  \n",
            "  inflating: cropped_images/chris_evans/chris_evans39.png  \n",
            "  inflating: cropped_images/chris_evans/chris_evans4.png  \n",
            "  inflating: cropped_images/chris_evans/chris_evans40.png  \n",
            "  inflating: cropped_images/chris_evans/chris_evans41.png  \n",
            "  inflating: cropped_images/chris_evans/chris_evans42.png  \n",
            "  inflating: cropped_images/chris_evans/chris_evans43.png  \n",
            "  inflating: cropped_images/chris_evans/chris_evans44.png  \n",
            "  inflating: cropped_images/chris_evans/chris_evans45.png  \n",
            "  inflating: cropped_images/chris_evans/chris_evans46.png  \n",
            "  inflating: cropped_images/chris_evans/chris_evans47.png  \n",
            "  inflating: cropped_images/chris_evans/chris_evans48.png  \n",
            "  inflating: cropped_images/chris_evans/chris_evans49.png  \n",
            "  inflating: cropped_images/chris_evans/chris_evans5.png  \n",
            "  inflating: cropped_images/chris_evans/chris_evans50.png  \n",
            "  inflating: cropped_images/chris_evans/chris_evans6.png  \n",
            "  inflating: cropped_images/chris_evans/chris_evans7.png  \n",
            "  inflating: cropped_images/chris_evans/chris_evans8.png  \n",
            "  inflating: cropped_images/chris_evans/chris_evans9.png  \n",
            "  inflating: cropped_images/chris_hemsworth/chris_hemsworth1.png  \n",
            "  inflating: cropped_images/chris_hemsworth/chris_hemsworth10.png  \n",
            "  inflating: cropped_images/chris_hemsworth/chris_hemsworth11.png  \n",
            "  inflating: cropped_images/chris_hemsworth/chris_hemsworth12.png  \n",
            "  inflating: cropped_images/chris_hemsworth/chris_hemsworth13.png  \n",
            "  inflating: cropped_images/chris_hemsworth/chris_hemsworth14.png  \n",
            "  inflating: cropped_images/chris_hemsworth/chris_hemsworth15.png  \n",
            "  inflating: cropped_images/chris_hemsworth/chris_hemsworth16.png  \n",
            "  inflating: cropped_images/chris_hemsworth/chris_hemsworth17.png  \n",
            "  inflating: cropped_images/chris_hemsworth/chris_hemsworth18.png  \n",
            "  inflating: cropped_images/chris_hemsworth/chris_hemsworth19.png  \n",
            "  inflating: cropped_images/chris_hemsworth/chris_hemsworth2.png  \n",
            "  inflating: cropped_images/chris_hemsworth/chris_hemsworth20.png  \n",
            "  inflating: cropped_images/chris_hemsworth/chris_hemsworth21.png  \n",
            "  inflating: cropped_images/chris_hemsworth/chris_hemsworth22.png  \n",
            "  inflating: cropped_images/chris_hemsworth/chris_hemsworth23.png  \n",
            "  inflating: cropped_images/chris_hemsworth/chris_hemsworth24.png  \n",
            "  inflating: cropped_images/chris_hemsworth/chris_hemsworth25.png  \n",
            "  inflating: cropped_images/chris_hemsworth/chris_hemsworth26.png  \n",
            "  inflating: cropped_images/chris_hemsworth/chris_hemsworth27.png  \n",
            "  inflating: cropped_images/chris_hemsworth/chris_hemsworth28.png  \n",
            "  inflating: cropped_images/chris_hemsworth/chris_hemsworth29.png  \n",
            "  inflating: cropped_images/chris_hemsworth/chris_hemsworth3.png  \n",
            "  inflating: cropped_images/chris_hemsworth/chris_hemsworth30.png  \n",
            "  inflating: cropped_images/chris_hemsworth/chris_hemsworth31.png  \n",
            "  inflating: cropped_images/chris_hemsworth/chris_hemsworth32.png  \n",
            "  inflating: cropped_images/chris_hemsworth/chris_hemsworth33.png  \n",
            "  inflating: cropped_images/chris_hemsworth/chris_hemsworth34.png  \n",
            "  inflating: cropped_images/chris_hemsworth/chris_hemsworth35.png  \n",
            "  inflating: cropped_images/chris_hemsworth/chris_hemsworth36.png  \n",
            "  inflating: cropped_images/chris_hemsworth/chris_hemsworth37.png  \n",
            "  inflating: cropped_images/chris_hemsworth/chris_hemsworth38.png  \n",
            "  inflating: cropped_images/chris_hemsworth/chris_hemsworth39.png  \n",
            "  inflating: cropped_images/chris_hemsworth/chris_hemsworth4.png  \n",
            "  inflating: cropped_images/chris_hemsworth/chris_hemsworth40.png  \n",
            "  inflating: cropped_images/chris_hemsworth/chris_hemsworth41.png  \n",
            "  inflating: cropped_images/chris_hemsworth/chris_hemsworth42.png  \n",
            "  inflating: cropped_images/chris_hemsworth/chris_hemsworth43.png  \n",
            "  inflating: cropped_images/chris_hemsworth/chris_hemsworth44.png  \n",
            "  inflating: cropped_images/chris_hemsworth/chris_hemsworth45.png  \n",
            "  inflating: cropped_images/chris_hemsworth/chris_hemsworth46.png  \n",
            "  inflating: cropped_images/chris_hemsworth/chris_hemsworth47.png  \n",
            "  inflating: cropped_images/chris_hemsworth/chris_hemsworth48.png  \n",
            "  inflating: cropped_images/chris_hemsworth/chris_hemsworth49.png  \n",
            "  inflating: cropped_images/chris_hemsworth/chris_hemsworth5.png  \n",
            "  inflating: cropped_images/chris_hemsworth/chris_hemsworth50.png  \n",
            "  inflating: cropped_images/chris_hemsworth/chris_hemsworth51.png  \n",
            "  inflating: cropped_images/chris_hemsworth/chris_hemsworth52.png  \n",
            "  inflating: cropped_images/chris_hemsworth/chris_hemsworth53.png  \n",
            "  inflating: cropped_images/chris_hemsworth/chris_hemsworth6.png  \n",
            "  inflating: cropped_images/chris_hemsworth/chris_hemsworth7.png  \n",
            "  inflating: cropped_images/chris_hemsworth/chris_hemsworth8.png  \n",
            "  inflating: cropped_images/chris_hemsworth/chris_hemsworth9.png  \n",
            "  inflating: cropped_images/mark_ruffalo/mark_ruffalo1.png  \n",
            "  inflating: cropped_images/mark_ruffalo/mark_ruffalo10.png  \n",
            "  inflating: cropped_images/mark_ruffalo/mark_ruffalo11.png  \n",
            "  inflating: cropped_images/mark_ruffalo/mark_ruffalo12.png  \n",
            "  inflating: cropped_images/mark_ruffalo/mark_ruffalo13.png  \n",
            "  inflating: cropped_images/mark_ruffalo/mark_ruffalo14.png  \n",
            "  inflating: cropped_images/mark_ruffalo/mark_ruffalo15.png  \n",
            "  inflating: cropped_images/mark_ruffalo/mark_ruffalo16.png  \n",
            "  inflating: cropped_images/mark_ruffalo/mark_ruffalo17.png  \n",
            "  inflating: cropped_images/mark_ruffalo/mark_ruffalo18.png  \n",
            "  inflating: cropped_images/mark_ruffalo/mark_ruffalo19.png  \n",
            "  inflating: cropped_images/mark_ruffalo/mark_ruffalo2.png  \n",
            "  inflating: cropped_images/mark_ruffalo/mark_ruffalo20.png  \n",
            "  inflating: cropped_images/mark_ruffalo/mark_ruffalo21.png  \n",
            "  inflating: cropped_images/mark_ruffalo/mark_ruffalo22.png  \n",
            "  inflating: cropped_images/mark_ruffalo/mark_ruffalo23.png  \n",
            "  inflating: cropped_images/mark_ruffalo/mark_ruffalo24.png  \n",
            "  inflating: cropped_images/mark_ruffalo/mark_ruffalo25.png  \n",
            "  inflating: cropped_images/mark_ruffalo/mark_ruffalo26.png  \n",
            "  inflating: cropped_images/mark_ruffalo/mark_ruffalo27.png  \n",
            "  inflating: cropped_images/mark_ruffalo/mark_ruffalo28.png  \n",
            "  inflating: cropped_images/mark_ruffalo/mark_ruffalo29.png  \n",
            "  inflating: cropped_images/mark_ruffalo/mark_ruffalo3.png  \n",
            "  inflating: cropped_images/mark_ruffalo/mark_ruffalo30.png  \n",
            "  inflating: cropped_images/mark_ruffalo/mark_ruffalo31.png  \n",
            "  inflating: cropped_images/mark_ruffalo/mark_ruffalo32.png  \n",
            "  inflating: cropped_images/mark_ruffalo/mark_ruffalo33.png  \n",
            "  inflating: cropped_images/mark_ruffalo/mark_ruffalo34.png  \n",
            "  inflating: cropped_images/mark_ruffalo/mark_ruffalo35.png  \n",
            "  inflating: cropped_images/mark_ruffalo/mark_ruffalo36.png  \n",
            "  inflating: cropped_images/mark_ruffalo/mark_ruffalo37.png  \n",
            "  inflating: cropped_images/mark_ruffalo/mark_ruffalo38.png  \n",
            "  inflating: cropped_images/mark_ruffalo/mark_ruffalo39.png  \n",
            "  inflating: cropped_images/mark_ruffalo/mark_ruffalo4.png  \n",
            "  inflating: cropped_images/mark_ruffalo/mark_ruffalo40.png  \n",
            "  inflating: cropped_images/mark_ruffalo/mark_ruffalo41.png  \n",
            "  inflating: cropped_images/mark_ruffalo/mark_ruffalo42.png  \n",
            "  inflating: cropped_images/mark_ruffalo/mark_ruffalo43.png  \n",
            "  inflating: cropped_images/mark_ruffalo/mark_ruffalo44.png  \n",
            "  inflating: cropped_images/mark_ruffalo/mark_ruffalo45.png  \n",
            "  inflating: cropped_images/mark_ruffalo/mark_ruffalo46.png  \n",
            "  inflating: cropped_images/mark_ruffalo/mark_ruffalo47.png  \n",
            "  inflating: cropped_images/mark_ruffalo/mark_ruffalo48.png  \n",
            "  inflating: cropped_images/mark_ruffalo/mark_ruffalo49.png  \n",
            "  inflating: cropped_images/mark_ruffalo/mark_ruffalo5.png  \n",
            "  inflating: cropped_images/mark_ruffalo/mark_ruffalo50.png  \n",
            "  inflating: cropped_images/mark_ruffalo/mark_ruffalo51.png  \n",
            "  inflating: cropped_images/mark_ruffalo/mark_ruffalo52.png  \n",
            "  inflating: cropped_images/mark_ruffalo/mark_ruffalo53.png  \n",
            "  inflating: cropped_images/mark_ruffalo/mark_ruffalo54.png  \n",
            "  inflating: cropped_images/mark_ruffalo/mark_ruffalo55.png  \n",
            "  inflating: cropped_images/mark_ruffalo/mark_ruffalo56.png  \n",
            "  inflating: cropped_images/mark_ruffalo/mark_ruffalo57.png  \n",
            "  inflating: cropped_images/mark_ruffalo/mark_ruffalo58.png  \n",
            "  inflating: cropped_images/mark_ruffalo/mark_ruffalo59.png  \n",
            "  inflating: cropped_images/mark_ruffalo/mark_ruffalo6.png  \n",
            "  inflating: cropped_images/mark_ruffalo/mark_ruffalo60.png  \n",
            "  inflating: cropped_images/mark_ruffalo/mark_ruffalo61.png  \n",
            "  inflating: cropped_images/mark_ruffalo/mark_ruffalo62.png  \n",
            "  inflating: cropped_images/mark_ruffalo/mark_ruffalo63.png  \n",
            "  inflating: cropped_images/mark_ruffalo/mark_ruffalo64.png  \n",
            "  inflating: cropped_images/mark_ruffalo/mark_ruffalo65.png  \n",
            "  inflating: cropped_images/mark_ruffalo/mark_ruffalo66.png  \n",
            "  inflating: cropped_images/mark_ruffalo/mark_ruffalo7.png  \n",
            "  inflating: cropped_images/mark_ruffalo/mark_ruffalo8.png  \n",
            "  inflating: cropped_images/mark_ruffalo/mark_ruffalo9.png  \n",
            "  inflating: cropped_images/robert_downey_jr/robert_downey_jr1.png  \n",
            "  inflating: cropped_images/robert_downey_jr/robert_downey_jr10.png  \n",
            "  inflating: cropped_images/robert_downey_jr/robert_downey_jr11.png  \n",
            "  inflating: cropped_images/robert_downey_jr/robert_downey_jr12.png  \n",
            "  inflating: cropped_images/robert_downey_jr/robert_downey_jr13.png  \n",
            "  inflating: cropped_images/robert_downey_jr/robert_downey_jr14.png  \n",
            "  inflating: cropped_images/robert_downey_jr/robert_downey_jr15.png  \n",
            "  inflating: cropped_images/robert_downey_jr/robert_downey_jr16.png  \n",
            "  inflating: cropped_images/robert_downey_jr/robert_downey_jr17.png  \n",
            "  inflating: cropped_images/robert_downey_jr/robert_downey_jr18.png  \n",
            "  inflating: cropped_images/robert_downey_jr/robert_downey_jr19.png  \n",
            "  inflating: cropped_images/robert_downey_jr/robert_downey_jr2.png  \n",
            "  inflating: cropped_images/robert_downey_jr/robert_downey_jr20.png  \n",
            "  inflating: cropped_images/robert_downey_jr/robert_downey_jr21.png  \n",
            "  inflating: cropped_images/robert_downey_jr/robert_downey_jr22.png  \n",
            "  inflating: cropped_images/robert_downey_jr/robert_downey_jr23.png  \n",
            "  inflating: cropped_images/robert_downey_jr/robert_downey_jr24.png  \n",
            "  inflating: cropped_images/robert_downey_jr/robert_downey_jr25.png  \n",
            "  inflating: cropped_images/robert_downey_jr/robert_downey_jr26.png  \n",
            "  inflating: cropped_images/robert_downey_jr/robert_downey_jr27.png  \n",
            "  inflating: cropped_images/robert_downey_jr/robert_downey_jr28.png  \n",
            "  inflating: cropped_images/robert_downey_jr/robert_downey_jr29.png  \n",
            "  inflating: cropped_images/robert_downey_jr/robert_downey_jr3.png  \n",
            "  inflating: cropped_images/robert_downey_jr/robert_downey_jr30.png  \n",
            "  inflating: cropped_images/robert_downey_jr/robert_downey_jr31.png  \n",
            "  inflating: cropped_images/robert_downey_jr/robert_downey_jr32.png  \n",
            "  inflating: cropped_images/robert_downey_jr/robert_downey_jr33.png  \n",
            "  inflating: cropped_images/robert_downey_jr/robert_downey_jr34.png  \n",
            "  inflating: cropped_images/robert_downey_jr/robert_downey_jr35.png  \n",
            "  inflating: cropped_images/robert_downey_jr/robert_downey_jr36.png  \n",
            "  inflating: cropped_images/robert_downey_jr/robert_downey_jr37.png  \n",
            "  inflating: cropped_images/robert_downey_jr/robert_downey_jr38.png  \n",
            "  inflating: cropped_images/robert_downey_jr/robert_downey_jr39.png  \n",
            "  inflating: cropped_images/robert_downey_jr/robert_downey_jr4.png  \n",
            "  inflating: cropped_images/robert_downey_jr/robert_downey_jr40.png  \n",
            "  inflating: cropped_images/robert_downey_jr/robert_downey_jr41.png  \n",
            "  inflating: cropped_images/robert_downey_jr/robert_downey_jr42.png  \n",
            "  inflating: cropped_images/robert_downey_jr/robert_downey_jr43.png  \n",
            "  inflating: cropped_images/robert_downey_jr/robert_downey_jr44.png  \n",
            "  inflating: cropped_images/robert_downey_jr/robert_downey_jr45.png  \n",
            "  inflating: cropped_images/robert_downey_jr/robert_downey_jr46.png  \n",
            "  inflating: cropped_images/robert_downey_jr/robert_downey_jr47.png  \n",
            "  inflating: cropped_images/robert_downey_jr/robert_downey_jr48.png  \n",
            "  inflating: cropped_images/robert_downey_jr/robert_downey_jr49.png  \n",
            "  inflating: cropped_images/robert_downey_jr/robert_downey_jr5.png  \n",
            "  inflating: cropped_images/robert_downey_jr/robert_downey_jr50.png  \n",
            "  inflating: cropped_images/robert_downey_jr/robert_downey_jr51.png  \n",
            "  inflating: cropped_images/robert_downey_jr/robert_downey_jr6.png  \n",
            "  inflating: cropped_images/robert_downey_jr/robert_downey_jr7.png  \n",
            "  inflating: cropped_images/robert_downey_jr/robert_downey_jr8.png  \n",
            "  inflating: cropped_images/robert_downey_jr/robert_downey_jr9.png  \n",
            "  inflating: cropped_images/scarlett_johansson/scarlett_johansson1.png  \n",
            "  inflating: cropped_images/scarlett_johansson/scarlett_johansson10.png  \n",
            "  inflating: cropped_images/scarlett_johansson/scarlett_johansson11.png  \n",
            "  inflating: cropped_images/scarlett_johansson/scarlett_johansson12.png  \n",
            "  inflating: cropped_images/scarlett_johansson/scarlett_johansson13.png  \n",
            "  inflating: cropped_images/scarlett_johansson/scarlett_johansson14.png  \n",
            "  inflating: cropped_images/scarlett_johansson/scarlett_johansson15.png  \n",
            "  inflating: cropped_images/scarlett_johansson/scarlett_johansson16.png  \n",
            "  inflating: cropped_images/scarlett_johansson/scarlett_johansson17.png  \n",
            "  inflating: cropped_images/scarlett_johansson/scarlett_johansson18.png  \n",
            "  inflating: cropped_images/scarlett_johansson/scarlett_johansson19.png  \n",
            "  inflating: cropped_images/scarlett_johansson/scarlett_johansson2.png  \n",
            "  inflating: cropped_images/scarlett_johansson/scarlett_johansson20.png  \n",
            "  inflating: cropped_images/scarlett_johansson/scarlett_johansson21.png  \n",
            "  inflating: cropped_images/scarlett_johansson/scarlett_johansson22.png  \n",
            "  inflating: cropped_images/scarlett_johansson/scarlett_johansson23.png  \n",
            "  inflating: cropped_images/scarlett_johansson/scarlett_johansson24.png  \n",
            "  inflating: cropped_images/scarlett_johansson/scarlett_johansson25.png  \n",
            "  inflating: cropped_images/scarlett_johansson/scarlett_johansson26.png  \n",
            "  inflating: cropped_images/scarlett_johansson/scarlett_johansson27.png  \n",
            "  inflating: cropped_images/scarlett_johansson/scarlett_johansson28.png  \n",
            "  inflating: cropped_images/scarlett_johansson/scarlett_johansson29.png  \n",
            "  inflating: cropped_images/scarlett_johansson/scarlett_johansson3.png  \n",
            "  inflating: cropped_images/scarlett_johansson/scarlett_johansson30.png  \n",
            "  inflating: cropped_images/scarlett_johansson/scarlett_johansson31.png  \n",
            "  inflating: cropped_images/scarlett_johansson/scarlett_johansson32.png  \n",
            "  inflating: cropped_images/scarlett_johansson/scarlett_johansson33.png  \n",
            "  inflating: cropped_images/scarlett_johansson/scarlett_johansson34.png  \n",
            "  inflating: cropped_images/scarlett_johansson/scarlett_johansson35.png  \n",
            "  inflating: cropped_images/scarlett_johansson/scarlett_johansson36.png  \n",
            "  inflating: cropped_images/scarlett_johansson/scarlett_johansson37.png  \n",
            "  inflating: cropped_images/scarlett_johansson/scarlett_johansson38.png  \n",
            "  inflating: cropped_images/scarlett_johansson/scarlett_johansson39.png  \n",
            "  inflating: cropped_images/scarlett_johansson/scarlett_johansson4.png  \n",
            "  inflating: cropped_images/scarlett_johansson/scarlett_johansson40.png  \n",
            "  inflating: cropped_images/scarlett_johansson/scarlett_johansson41.png  \n",
            "  inflating: cropped_images/scarlett_johansson/scarlett_johansson42.png  \n",
            "  inflating: cropped_images/scarlett_johansson/scarlett_johansson43.png  \n",
            "  inflating: cropped_images/scarlett_johansson/scarlett_johansson44.png  \n",
            "  inflating: cropped_images/scarlett_johansson/scarlett_johansson45.png  \n",
            "  inflating: cropped_images/scarlett_johansson/scarlett_johansson46.png  \n",
            "  inflating: cropped_images/scarlett_johansson/scarlett_johansson47.png  \n",
            "  inflating: cropped_images/scarlett_johansson/scarlett_johansson48.png  \n",
            "  inflating: cropped_images/scarlett_johansson/scarlett_johansson49.png  \n",
            "  inflating: cropped_images/scarlett_johansson/scarlett_johansson5.png  \n",
            "  inflating: cropped_images/scarlett_johansson/scarlett_johansson50.png  \n",
            "  inflating: cropped_images/scarlett_johansson/scarlett_johansson51.png  \n",
            "  inflating: cropped_images/scarlett_johansson/scarlett_johansson52.png  \n",
            "  inflating: cropped_images/scarlett_johansson/scarlett_johansson53.png  \n",
            "  inflating: cropped_images/scarlett_johansson/scarlett_johansson54.png  \n",
            "  inflating: cropped_images/scarlett_johansson/scarlett_johansson6.png  \n",
            "  inflating: cropped_images/scarlett_johansson/scarlett_johansson7.png  \n",
            "  inflating: cropped_images/scarlett_johansson/scarlett_johansson8.png  \n",
            "  inflating: cropped_images/scarlett_johansson/scarlett_johansson9.png  \n"
          ]
        }
      ]
    },
    {
      "cell_type": "markdown",
      "source": [
        "## **Detekcija lica - OpenCV Haar cascade**\n",
        "\n",
        "Haar cascade, poznat kao algoritam koji su Viola i Jones prvi predstavili u svom članku iz 2001. godine pod nazivom \"Rapid Object Detection using a Boosted Cascade of Simple Features\", je jedan od najpoznatijih algoritama za detekciju objekata u okviru OpenCV biblioteke.\n",
        "\n",
        "Iako postoje mnogi algoritmi koji su precizniji od Haar kaskada (kao što su HOG + Linear SVM, SSDs, Faster R-CNN, YOLO), ovaj algoritam i dalje ima svoju relevantnost i korisnost.\n",
        "\n",
        "Jedna od glavnih prednosti ovog algoritma je njegova izuzetna brzina, koju je teško nadmašiti.\n",
        "\n",
        "Naravno, Haar kaskadi imaju svoje nedostatke, kao što su sklonost ka lažno pozitivnim detekcijama (false positive), zahtev za podešavanje parametara prilikom primene i općenito manja preciznost u poređenju sa \"modernijim\" algoritmima koje danas imamo.\n",
        "\n",
        "Ipak, ovaj algoritam i dalje ostaje važan deo literature u oblasti računarskog vida (computer vision) i obradi slika (image processing), i još uvek se koristi u OpenCV biblioteci. Još jedna vrlina Haar kaskada je to što je i dalje korisna opcija, posebno kada radimo sa uređajima koji imaju ograničene resurse i ne možemo priuštiti korišćenje računarski zahtevnijih detektora objekata."
      ],
      "metadata": {
        "id": "OqIe_c_WPor_"
      }
    },
    {
      "cell_type": "code",
      "source": [
        "# Instaliranje OpenCV biblioteke\n",
        "!pip install opencv-python"
      ],
      "metadata": {
        "colab": {
          "base_uri": "https://localhost:8080/"
        },
        "id": "oW7rzcvxQA2k",
        "outputId": "53169429-2190-4c2c-d586-6282abe9b2c7"
      },
      "execution_count": 25,
      "outputs": [
        {
          "output_type": "stream",
          "name": "stdout",
          "text": [
            "Requirement already satisfied: opencv-python in /usr/local/lib/python3.10/dist-packages (4.7.0.72)\n",
            "Requirement already satisfied: numpy>=1.21.2 in /usr/local/lib/python3.10/dist-packages (from opencv-python) (1.22.4)\n"
          ]
        }
      ]
    },
    {
      "cell_type": "code",
      "source": [
        "# Uvoz biblioteke OpenCV za obradu slika\n",
        "import cv2\n",
        "\n",
        "# Uvoz funkcije cv2_imshow za prikazivanje slika u Colab okruženju\n",
        "from google.colab.patches import cv2_imshow\n",
        "\n",
        "# Uvoz modula os za interakciju sa operativnim sistemom\n",
        "import os\n",
        "\n",
        "# Uvoz modula Image iz PIL biblioteke za manipulaciju slikama\n",
        "from PIL import Image\n"
      ],
      "metadata": {
        "id": "scar5lI2QCbb"
      },
      "execution_count": 26,
      "outputs": []
    },
    {
      "cell_type": "code",
      "source": [
        "# Učitavanje haar cascade klasifikatora\n",
        "face_cascade = cv2.CascadeClassifier(cv2.data.haarcascades + 'haarcascade_frontalface_default.xml')\n",
        "\n",
        "# Putanja do glavnog foldera sa slikama\n",
        "main_folder = \"cropped_images\"\n",
        "\n",
        "# Prolazak kroz sve podfoldere u glavnom folderu\n",
        "for subfolder in os.listdir(main_folder):\n",
        "    # Konstruisanje putanje do podfoldera\n",
        "    subfolder_path = os.path.join(main_folder, subfolder)\n",
        "\n",
        "    # Provera da li je putanja do podfoldera\n",
        "    if not os.path.isdir(subfolder_path):\n",
        "        print(f\"Invalid subfolder path: {subfolder_path}\")\n",
        "        continue\n",
        "\n",
        "    # Prolazak kroz sve slike u podfolderu\n",
        "    for filename in os.listdir(subfolder_path):\n",
        "        # Konstruisanje putanje do slike\n",
        "        img_path = os.path.join(subfolder_path, filename)\n",
        "\n",
        "        # Provera da li putanja vodi do fajla\n",
        "        if not os.path.isfile(img_path):\n",
        "            print(f\"Invalid image path: {img_path}\")\n",
        "            continue\n",
        "\n",
        "        # Učitavanje slike\n",
        "        img = cv2.imread(img_path)\n",
        "\n",
        "        new_width = 400\n",
        "        new_height = 400\n",
        "\n",
        "        # Resize the image\n",
        "        resized_img = cv2.resize(img, (new_width, new_height))\n",
        "\n",
        "        # Provera da li je slika uspešno učitana\n",
        "        if img is None:\n",
        "            print(f\"Failed to read image: {img_path}\")\n",
        "            continue\n",
        "\n",
        "        # Dalji rad se vrši na grayscale verziji fotografije\n",
        "        gray = cv2.cvtColor(resized_img, cv2.COLOR_BGR2GRAY)\n",
        "\n",
        "        # Detekcija lica na preuzetoj fotografiji\n",
        "        faces = face_cascade.detectMultiScale(gray, 1.1, 4)\n",
        "\n",
        "        # Crtanje okvira oko prepoznatih lica\n",
        "        for (x, y, w, h) in faces:\n",
        "            cv2.rectangle(resized_img, (x, y), (x+w, y+h), (255, 0, 0), 2)\n",
        "\n",
        "        # Prikaz fotografije\n",
        "\n",
        "        cv2_imshow(resized_img)\n",
        "        cv2.waitKey(0)\n",
        "\n",
        "# Zatvaranje prozora nakon prikaza svih slika\n",
        "cv2.destroyAllWindows()\n"
      ],
      "metadata": {
        "id": "h2yhfCnPQCv3"
      },
      "execution_count": null,
      "outputs": []
    },
    {
      "cell_type": "markdown",
      "source": [
        "## **Zaključak**\n",
        "\n",
        "Ovaj projektni zadatak predstavlja samo mali fragment šire oblasti detekcije lica korišćenjem Haar cascade algoritma u OpenCV-u.\n",
        "\n",
        "Tokom izrade projekta, fokus je bio na primeni klasičnog Haar-cascade modela. Ova oblast pruža fascinantan uvid u veliki skup podataka, algoritama i metoda koji zajednički doprinose olakšanju i poboljšanju sigurnosti našeg svakodnevnog života."
      ],
      "metadata": {
        "id": "6n6P84DWKZPr"
      }
    },
    {
      "cell_type": "markdown",
      "source": [
        "## **Reference**\n",
        "\n",
        "1. OpenCV Haar Cascades: https://pyimagesearch.com/2021/04/12/opencv-haar-cascades/\n",
        "\n",
        "2. Primena detekcije lica: https://www.cameralyze.co/blog/4-areas-where-face-detection-is-used\n",
        "\n",
        "3. Šta je detekcija lica: https://www.techtarget.com/searchenterpriseai/definition/face-detection\n",
        "\n",
        "4. Metode detekcije lica: https://www.cameralyze.co/blog/4-popular-face-detection-methods"
      ],
      "metadata": {
        "id": "LyC7e1NRLNYz"
      }
    }
  ]
}